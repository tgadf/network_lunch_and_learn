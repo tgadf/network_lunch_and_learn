{
 "cells": [
  {
   "cell_type": "markdown",
   "metadata": {},
   "source": [
    "## Initial Setup"
   ]
  },
  {
   "cell_type": "code",
   "execution_count": null,
   "metadata": {},
   "outputs": [],
   "source": [
    "%load_ext autoreload\n",
    "%autoreload\n",
    "\n",
    "## This expands a notebook to full width\n",
    "from IPython.core.display import display, HTML\n",
    "display(HTML(\"<style>.container { width:100% !important; }</style>\"))\n",
    "display(HTML(\"\"\"<style>div.output_area{max-height:10000px;overflow:scroll;}</style>\"\"\"))\n",
    "\n",
    "## Show Python Version\n",
    "import sys\n",
    "print(\"Python: {0}\".format(sys.version))\n",
    "\n",
    "## Show Current Time\n",
    "import datetime as dt\n",
    "start = dt.datetime.now()\n",
    "print(\"Notebook Last Run Initiated: \"+str(start))"
   ]
  },
  {
   "cell_type": "markdown",
   "metadata": {},
   "source": [
    "## Import Useful Functions "
   ]
  },
  {
   "cell_type": "code",
   "execution_count": null,
   "metadata": {},
   "outputs": [],
   "source": [
    "from pandas import DataFrame, Series, read_csv, to_numeric\n",
    "from itertools import combinations\n",
    "import networkx as nx\n",
    "from pyvis import network as net"
   ]
  },
  {
   "cell_type": "markdown",
   "metadata": {},
   "source": [
    "## Load User Friendly Functions"
   ]
  },
  {
   "cell_type": "code",
   "execution_count": null,
   "metadata": {},
   "outputs": [],
   "source": [
    "from ioUtilities import getFile, saveFile"
   ]
  },
  {
   "cell_type": "markdown",
   "metadata": {},
   "source": [
    "# Network 101: Pokemon"
   ]
  },
  {
   "cell_type": "code",
   "execution_count": null,
   "metadata": {},
   "outputs": [],
   "source": [
    "## FYI, there are 18 Pokemon types each with weakness against at least one other type\n",
    "weakAgainst = {}\n",
    "weakAgainst[\"Ghost\"] = [\"Ghost\", \"Dark\"]\n",
    "weakAgainst[\"Dark\"]  = [\"Fighting\", \"Bug\", \"Fairy\"]\n",
    "weakAgainst[\"Fairy\"] = [\"Poison\", \"Steel\"]\n",
    "weakAgainst[\"Steel\"] = [\"Fire\", \"Fighting\", \"Ground\"]\n",
    "weakAgainst[\"Fire\"]  = [\"Water\", \"Ground\", \"Rock\"]\n",
    "weakAgainst[\"Rock\"]  = [\"Water\", \"Grass\", \"Fighting\", \"Ground\", \"Steel\"]\n",
    "weakAgainst[\"Grass\"] = [\"Fire\", \"Ice\", \"Poison\", \"Flying\", \"Bug\"]\n",
    "weakAgainst[\"Bug\"]   = [\"Fire\", \"Flying\", \"Rock\"]\n",
    "weakAgainst[\"Flying\"] = [\"Electric\", \"Ice\", \"Rock\"]\n",
    "weakAgainst[\"Electric\"] = [\"Ground\"]\n",
    "weakAgainst[\"Ground\"] = [\"Water\", \"Grass\", \"Ice\"]\n",
    "weakAgainst[\"Ice\"]   = [\"Fire\", \"Fighting\", \"Rock\", \"Steel\"]\n",
    "weakAgainst[\"Dragon\"] = [\"Ice\", \"Dragon\", \"Fairy\"]\n",
    "weakAgainst[\"Fairy\"]  = [\"Poison\", \"Steel\"]\n",
    "weakAgainst[\"Poison\"] = [\"Ground\", \"Psychic\"]\n",
    "weakAgainst[\"Psychic\"] = [\"Bug\", \"Ghost\", \"Dark\"]\n",
    "weakAgainst[\"Normal\"] = [\"Fighting\"]\n",
    "weakAgainst[\"Fighting\"] = [\"Flying\", \"Psychic\", \"Fairy\"]\n",
    "weakAgainst[\"Water\"] = [\"Electric\", \"Grass\"]\n",
    "\n",
    "color_map = {\"Bug\": \"A8B820\", \"Dark\": \"705848\", \"Dragon\": \"7038F8\", \"Electric\": \"F8D030\", \"Fairy\": \"EE99AC\",\n",
    "             \"Fighting\": \"C03028\", \"Fire\": 'FF0000', \"Flying\": \"A890F0\", \"Ghost\": \"705898\", \"Grass\": \"78C850\",\n",
    "             \"Ground\": 'B5651D', \"Ice\": \"98D8D8\", \"Normal\": \"A8A878\", \"Poison\": \"A040A0\", \"Psychic\": \"F85888\",\n",
    "             \"Rock\": \"B8A038\", \"Steel\": \"B8B8D0\", \"Water\": \"6890F0\"}"
   ]
  },
  {
   "cell_type": "markdown",
   "metadata": {},
   "source": [
    "## Create a Directed (Di) Graph"
   ]
  },
  {
   "cell_type": "code",
   "execution_count": null,
   "metadata": {},
   "outputs": [],
   "source": [
    "G = nx.DiGraph()\n",
    "#G = nx.MultiDiGraph()"
   ]
  },
  {
   "cell_type": "markdown",
   "metadata": {},
   "source": [
    "## Build Network By Adding Edges (i.e., Water is weak against Electric and Grass types)"
   ]
  },
  {
   "cell_type": "code",
   "execution_count": null,
   "metadata": {},
   "outputs": [],
   "source": [
    "for ptype,vals in weakAgainst.items():\n",
    "    for val in vals:\n",
    "        G.add_edge(val, ptype, color=\"#{0}\".format(color_map[val]))"
   ]
  },
  {
   "cell_type": "markdown",
   "metadata": {},
   "source": [
    "## Draw Network"
   ]
  },
  {
   "cell_type": "code",
   "execution_count": null,
   "metadata": {},
   "outputs": [],
   "source": [
    "labels = list(G.nodes())\n",
    "node_colors = [\"#{0}\".format(color_map[node]) for node in G.nodes()]\n",
    "nodes = G.nodes(True)\n",
    "node_labels = {n: n for n, attrs in nodes}"
   ]
  },
  {
   "cell_type": "code",
   "execution_count": null,
   "metadata": {},
   "outputs": [],
   "source": [
    "edges = G.edges()\n",
    "edge_colors = [G[u][v]['color'] for u,v in edges]"
   ]
  },
  {
   "cell_type": "code",
   "execution_count": null,
   "metadata": {},
   "outputs": [],
   "source": [
    "import matplotlib\n",
    "import matplotlib.pyplot as plt\n",
    "matplotlib.rcParams['figure.figsize'] = (12, 12)"
   ]
  },
  {
   "cell_type": "code",
   "execution_count": null,
   "metadata": {},
   "outputs": [],
   "source": [
    "print(\"Drawing the self-loops is a pain so we're skipping that part\")\n",
    "pos = nx.circular_layout(G)\n",
    "#pos = nx.spring_layout(G)\n",
    "#pos = nx.kamada_kawai_layout(G)\n",
    "nx.draw_networkx_nodes(G, pos, node_size=6000, node_shape='o', node_color=node_colors, alpha=0.5)\n",
    "nx.draw_networkx_edges(G, pos, style='dotted', arrowsize=20, edge_color=edge_colors, width=2, alpha=0.6)\n",
    "nx.draw_networkx_labels(G, pos, node_labels, alpha=1, font_size=16, font_weight='bold', font_family='serif')\n",
    "plt.axis('off')\n",
    "plt.savefig(\"types.pdf\", dpi=150) ## Plot is saved as a PDF"
   ]
  },
  {
   "cell_type": "markdown",
   "metadata": {},
   "source": [
    "## Load IMDB Actor/Movie Data"
   ]
  },
  {
   "cell_type": "code",
   "execution_count": null,
   "metadata": {},
   "outputs": [],
   "source": [
    "## getFile will load the pickle file (ext-->.p)\n",
    "networkDF = getFile(\"data.p\")"
   ]
  },
  {
   "cell_type": "code",
   "execution_count": null,
   "metadata": {},
   "outputs": [],
   "source": [
    "## Show the first 5 rows of the dataframe\n",
    "networkDF.head()"
   ]
  },
  {
   "cell_type": "markdown",
   "metadata": {},
   "source": [
    "## Add a few useful columns to the data frame"
   ]
  },
  {
   "cell_type": "code",
   "execution_count": null,
   "metadata": {},
   "outputs": [],
   "source": [
    "## Make year a string\n",
    "networkDF[networkDF['Year'].apply(lambda x: isinstance(x, str))]\n",
    "## Create unique key\n",
    "networkDF[\"Key\"] = networkDF[[\"Title\", \"Year\"]].apply(lambda x: \" \".join([str(y) for y in x]), axis=1)"
   ]
  },
  {
   "cell_type": "code",
   "execution_count": null,
   "metadata": {},
   "outputs": [],
   "source": [
    "## Show the first 5 rows of the dataframe\n",
    "networkDF.head()"
   ]
  },
  {
   "cell_type": "markdown",
   "metadata": {},
   "source": [
    "## Create an Actor Network"
   ]
  },
  {
   "cell_type": "code",
   "execution_count": null,
   "metadata": {},
   "outputs": [],
   "source": [
    "## Create networkx graph object\n",
    "nxG = nx.Graph()\n",
    "\n",
    "print(\"Full Network Size:   \",networkDF.shape)\n",
    "\n",
    "## Limit network to movies that have at least one award and made in the last decade\n",
    "limNetworkDF = networkDF[(networkDF['Award'] < 10) & (networkDF[\"Year\"] > 2010)].copy()\n",
    "print(\"Limited Network Size:\",limNetworkDF.shape)\n",
    "for movie, df in limNetworkDF.groupby('Key'):\n",
    "    people  = df[\"Actor\"].tolist()\n",
    "    mapping = list(combinations(people, 2))\n",
    "    nxG.add_edges_from(mapping, label=movie)\n",
    "print(\"Number of Nodes: {0}\".format(len(nxG.nodes())))\n",
    "print(\"Number of Edges: {0}\".format(len(nxG.edges())))"
   ]
  },
  {
   "cell_type": "markdown",
   "metadata": {},
   "source": [
    "## Draw limited network "
   ]
  },
  {
   "cell_type": "code",
   "execution_count": null,
   "metadata": {},
   "outputs": [],
   "source": [
    "## Try Spring Layout (this will take a little bit of time)\n",
    "pos = nx.spring_layout(nxG)\n",
    "nx.draw(nxG, pos)"
   ]
  },
  {
   "cell_type": "code",
   "execution_count": null,
   "metadata": {},
   "outputs": [],
   "source": [
    "## Try Circular Layout (should be fast)\n",
    "pos = nx.circular_layout(nxG)\n",
    "nx.draw(nxG, pos, node_size=1, node_color='blue', width=0.1, edge_color='grey')"
   ]
  },
  {
   "cell_type": "code",
   "execution_count": null,
   "metadata": {},
   "outputs": [],
   "source": [
    "## Try KK Layout (will take a long time)\n",
    "pos = nx.kamada_kawai_layout(nxG)\n",
    "nx.draw(nxG, pos, node_size=1, node_color='blue', width=0.1, edge_color='grey')"
   ]
  },
  {
   "cell_type": "markdown",
   "metadata": {},
   "source": [
    "# AP Network Graphs"
   ]
  },
  {
   "cell_type": "code",
   "execution_count": null,
   "metadata": {},
   "outputs": [],
   "source": [
    "def createNetwork(pyG, name):\n",
    "    from pyvis import network as net\n",
    "    #Network(, bgcolor=\"#222222\", font_color=\"white\")\n",
    "    #pyG.from_nx(g)\n",
    "\n",
    "    #neighbor_map = pyG.get_adj_list()\n",
    "    #s = Series([len(x) for x in neighbor_map])\n",
    "    from numpy import log1p, tanh\n",
    "    #degrees      = g.degree()\n",
    "    for node in pyG.nodes:\n",
    "        #node[\"label\"]  = name[\"id\"]\n",
    "        node[\"title\"] = \"{0}<br>\".format(node['label'])\n",
    "        #node[\"title\"] += \" Degree   :{0}<br>\".format(degrees[node['id']])\n",
    "        #node[\"title\"] += \" Neighbors:<br>\" + \"<br>\".join(neighbor_map[node[\"id\"]])\n",
    "        #node[\"value\"] = log1p(len(neighbor_map[node[\"id\"]]))/10.0\n",
    "        node[\"shape\"] = \"dot\"\n",
    "        node[\"mass\"]  = node[\"size\"]/10\n",
    "\n",
    "#        ,\n",
    "#          \"color\": {\n",
    "#            \"background\": \"rgba(108,247,252,1)\",\n",
    "#            \"highlight\": {\n",
    "#              \"border\": \"rgba(76,99,229,0.87)\",\n",
    "#              \"background\": \"rgba(255,75,206,1)\"\n",
    "#            }\n",
    "          \n",
    "    pyG.show_buttons(filter_=['physics'])\n",
    "    options = \"\"\"var options = {\n",
    "        \"configure\": {\n",
    "            \"enabled\": true\n",
    "        },\n",
    "        \"edges\": {\n",
    "            \"color\": {\n",
    "                \"inherit\": true\n",
    "            },\n",
    "            \"width\": 0.2,\n",
    "            \"smooth\": {\n",
    "                \"enabled\": false,\n",
    "                \"type\": \"continuous\"\n",
    "            }\n",
    "        },\n",
    "        \"interaction\": {\n",
    "            \"dragNodes\": false,\n",
    "            \"hideEdgesOnDrag\": false,\n",
    "            \"hideNodesOnDrag\": false\n",
    "        },\n",
    "        \"physics\": {\n",
    "            \"barnesHut\": {\n",
    "                  \"gravitationalConstant\": -23300,\n",
    "                  \"springConstant\": 0.005\n",
    "            },\n",
    "            \"maxVelocity\": 37,\n",
    "            \"minVelocity\": 0.75,\n",
    "            \"enabled\": true,\n",
    "            \"stabilization\": {\n",
    "                \"enabled\": true,\n",
    "                \"fit\": true,\n",
    "                \"iterations\": 1000,\n",
    "                \"onlyDynamicEdges\": false,\n",
    "                \"updateInterval\": 50\n",
    "            }\n",
    "        }\n",
    "    }\"\"\"\n",
    "    pyG.set_options(options)\n",
    "    pyG.show(\"{0}.html\".format(name))\n",
    "    print(\"Wrote {0}\".format(\"{0}.html\".format(name)))"
   ]
  },
  {
   "cell_type": "markdown",
   "metadata": {},
   "source": [
    "# Build Network From One Actor To Another"
   ]
  },
  {
   "cell_type": "code",
   "execution_count": null,
   "metadata": {},
   "outputs": [],
   "source": [
    "source = \"Kevin Bacon\"\n",
    "target = \"Meryl Streep\""
   ]
  },
  {
   "cell_type": "code",
   "execution_count": null,
   "metadata": {},
   "outputs": [],
   "source": [
    "## Maximum number of connections between source and target\n",
    "cutoff = 2"
   ]
  },
  {
   "cell_type": "code",
   "execution_count": null,
   "metadata": {},
   "outputs": [],
   "source": [
    "nxGraph = nx.Graph()\n",
    "pyG  = net.Network(height=\"850px\", width=\"70%\")\n",
    "unique = {}\n",
    "\n",
    "\n",
    "\n",
    "size_lookup   = {2: 50, 3: 30, 4: 15, 5: 10, 6: 5}\n",
    "width_lookup  = {1: 20, 2: 10, 3: 5, 4: 1, 5: 0.5, 6: 0.25}\n",
    "color_lookup  = {2: '#000000', 3: '#0066FF', 4: \"#98FB98\", 5: \"#FFB6C1\", 5: \"#FFB6C1\", 6: \"#ADD8E6\"}\n",
    "\n",
    "node_attrs  = {source: {\"Path\": 2, \"Color\": color_lookup[2], \"Size\": size_lookup[2]},\n",
    "               target: {\"Path\": 2, \"Color\": color_lookup[2], \"Size\": size_lookup[2]}}\n",
    "edge_attrs  = {}\n",
    "\n",
    "\n",
    "\n",
    "## The all_simple_paths function is the key here\n",
    "for path in nx.all_simple_paths(nxG, source, target, cutoff=cutoff):\n",
    "    #print(path)\n",
    "    \n",
    "    for i in range(len(path)-1):\n",
    "        edge = (path[i],path[i+1])\n",
    "        label = nxG[path[i]][path[i+1]][\"label\"]\n",
    "        nxGraph.add_edge(edge[0], edge[1])\n",
    "        \n",
    "        for node in edge:\n",
    "            if node_attrs.get(node) is not None:\n",
    "                if len(path) >= node_attrs[node][\"Path\"]:\n",
    "                    continue\n",
    "            node_attrs[node] = {\"Path\": len(path), \"Color\": color_lookup[len(path)], \"Size\": size_lookup[len(path)]}\n",
    "            #print(\"==>\",len(path),node,node_attrs[node])\n",
    "        \n",
    "        if edge_attrs.get(edge) is not None:\n",
    "            if len(path) >= edge_attrs[edge][\"Path\"]:\n",
    "                continue\n",
    "        #print(path)\n",
    "        edge_attrs[edge] = {\"Path\": len(path), \"Color\": color_lookup[len(path)], \"Label\": label, \"Width\": width_lookup[len(path)-1]}\n",
    "        #print(\"-->\",len(path),edge,edge_attrs[edge])\n",
    "\n",
    "nx.set_node_attributes(nxGraph, node_attrs)\n",
    "nx.set_edge_attributes(nxGraph, edge_attrs)\n",
    "if False:\n",
    "    print(\"\")\n",
    "    for k,v in node_attrs.items():\n",
    "        print(k,v)\n",
    "#print(nxGraph.nodes(data=True))\n",
    "print(\"Network of {0} and {1}\".format(source, target))\n",
    "print(\"Number of Nodes: {0}\".format(len(nxGraph.nodes())))\n",
    "print(\"Number of Edges: {0}\".format(len(nxGraph.edges())))"
   ]
  },
  {
   "cell_type": "code",
   "execution_count": null,
   "metadata": {},
   "outputs": [],
   "source": [
    "## Some useful values to keep the plots pretty\n",
    "node_lookup = dict(zip(range(len(node_attrs)), node_attrs.keys()))\n",
    "edge_lookup = dict(zip(node_attrs.keys(), range(len(node_attrs))))\n",
    "node_size   = [x[\"Size\"] for x in node_attrs.values()]\n",
    "node_color  = [x[\"Color\"] for x in node_attrs.values()]\n",
    "\n",
    "print(len(node_lookup))\n",
    "print(len(edge_lookup))\n",
    "print(len(node_size))\n",
    "print(len(node_color))"
   ]
  },
  {
   "cell_type": "code",
   "execution_count": null,
   "metadata": {},
   "outputs": [],
   "source": [
    "pyG  = net.Network(height=\"850px\", width=\"70%\")\n",
    "pyG.add_nodes(nodes=range(len(node_lookup)), label=list(node_lookup.values()), size=node_size, color=node_color)\n",
    "for edge in nxGraph.edges(data=True):\n",
    "    pyG.add_edge(edge_lookup[edge[0]], edge_lookup[edge[1]], title=edge[2][\"Label\"], color=edge[2][\"Color\"], weight=edge[2][\"Width\"])"
   ]
  },
  {
   "cell_type": "code",
   "execution_count": null,
   "metadata": {},
   "outputs": [],
   "source": [
    "createNetwork(pyG, \"_\".join([source,target]))"
   ]
  }
 ],
 "metadata": {
  "kernelspec": {
   "display_name": "Python 3",
   "language": "python",
   "name": "python3"
  },
  "language_info": {
   "codemirror_mode": {
    "name": "ipython",
    "version": 3
   },
   "file_extension": ".py",
   "mimetype": "text/x-python",
   "name": "python",
   "nbconvert_exporter": "python",
   "pygments_lexer": "ipython3",
   "version": "3.7.3"
  }
 },
 "nbformat": 4,
 "nbformat_minor": 2
}
